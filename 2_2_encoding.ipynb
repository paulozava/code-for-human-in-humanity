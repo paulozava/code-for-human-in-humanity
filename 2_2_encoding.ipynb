{
 "cells": [
  {
   "cell_type": "heading",
   "metadata": {
    "collapsed": true
   },
   "level": 1,
   "source": [
    "Encoding"
   ]
  },
  {
   "cell_type": "markdown",
   "metadata": {},
   "source": [
    "Por padrão, o python utiliza encoding UTF-8, que é utilizado pela maioria dos computadores na terra. Contudo, esse encoding pode ser mudado caso haja necessidade do programador. Basta que o usuário adicione na PRIMEIRA LINHA do código a informação abaixo"
   ]
  },
  {
   "cell_type": "code",
   "execution_count": null,
   "metadata": {},
   "outputs": [],
   "source": [
    "# -*- coding: encoding -*-"
   ]
  },
  {
   "cell_type": "code",
   "execution_count": null,
   "metadata": {},
   "outputs": [],
   "source": [
    "# -*- coding: utf_8 -*-"
   ]
  },
  {
   "cell_type": "code",
   "execution_count": null,
   "metadata": {},
   "outputs": [],
   "source": [
    "# -*- coding: cp1252 -*-"
   ]
  },
  {
   "cell_type": "markdown",
   "metadata": {},
   "source": []
  },
  {
   "cell_type": "markdown",
   "metadata": {},
   "source": [
    "Nessa página você vai encontrar tambêm um monte de informações sobre como é feito o encoding, quais os alias (\"apelidos\") que são formas de você invocar um codic específico, por exemplo:"
   ]
  },
  {
   "cell_type": "code",
   "execution_count": null,
   "metadata": {},
   "outputs": [],
   "source": [
    "# -*- coding: utf-8 -*-"
   ]
  },
  {
   "cell_type": "code",
   "execution_count": null,
   "metadata": {},
   "outputs": [],
   "source": [
    "# -*- coding: utf_8 -*-"
   ]
  },
  {
   "cell_type": "markdown",
   "metadata": {},
   "source": [
    "Outras coisas importantes:\n",
    "\t1ª A regra do encoding na primeira linha só tem uma excessão, quando o arquivo .py for executado como um script nos sistemas UNIX, o encoding deve ser colocado na segunda linha, já que na primeira vão estar as regras de excecução do script\n",
    "\t2ª As bibliotecas usadas no python devem preferencialmente serem escritas levando em conta o ASCII e não o UTF-8, para garantir máxima compatibilidade.\n",
    "\t3ª Se você usar o padrão UTF-8 você não precisa identificar esse padrão de coding no script, ele é padrão "
   ]
  },
  {
   "cell_type": "code",
   "execution_count": null,
   "metadata": {},
   "outputs": [],
   "source": [
    "# primeiro caso\n",
    "\n",
    "#!/usr/bin/env python3\n",
    "# -*- coding: cp1252 -*-"
   ]
  },
  {
   "cell_type": "code",
   "execution_count": null,
   "metadata": {},
   "outputs": [],
   "source": [
    "# segundo caso\n",
    "\n",
    "# -*- coding: ascii -*-"
   ]
  }
 ],
 "metadata": {
  "kernelspec": {
   "display_name": "Python 2",
   "language": "python",
   "name": "python2"
  },
  "language_info": {
   "codemirror_mode": {
    "name": "ipython",
    "version": 2
   },
   "file_extension": ".py",
   "mimetype": "text/x-python",
   "name": "python",
   "nbconvert_exporter": "python",
   "pygments_lexer": "ipython2",
   "version": "2.7.6"
  }
 },
 "nbformat": 4,
 "nbformat_minor": 0
}

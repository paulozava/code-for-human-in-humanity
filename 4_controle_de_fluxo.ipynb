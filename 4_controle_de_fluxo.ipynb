{
 "cells": [
  {
   "cell_type": "markdown",
   "metadata": {},
   "source": [
    "## Controle de fluxo\n",
    "No python temos basicamentre 3 tipos de controle de fluxo:\n",
    "\n",
    "    1º if,elif, else\n",
    "    2º for\n",
    "    3º while"
   ]
  },
  {
   "cell_type": "markdown",
   "metadata": {},
   "source": [
    "### IF, ELIF, ELSE\n",
    "\n",
    "O if, elif, else é uma estrutura que permite a checagem de condições específicas para que um código seja executado, por, exemplo:"
   ]
  },
  {
   "cell_type": "code",
   "execution_count": 1,
   "metadata": {},
   "outputs": [
    {
     "name": "stdout",
     "output_type": "stream",
     "text": [
      "hmmmm\n"
     ]
    }
   ],
   "source": [
    "melancia = False\n",
    "\n",
    "if melancia is True:\n",
    "    print('melancia')\n",
    "else:\n",
    "    print('hmmmm')"
   ]
  },
  {
   "cell_type": "markdown",
   "metadata": {},
   "source": [
    "O cógio acima pode ser lido como:\n",
    "\n",
    "*Se a melancia é Verdade, imprima no terminal a palavra __melancia__, mas em qualquer outra condição (melancia é Falso, melancia é uma lista, melancia não é nada ...) imprima a palavra __hmmm__*"
   ]
  },
  {
   "cell_type": "markdown",
   "metadata": {},
   "source": [
    "O elif pode ser lido como um else if, ou seja, uma condição intermediária entre o if e o else. Nesse sentido, o elif só é avaliado após o if ou outro elif, funcionando como o select, switch em outras linguagens, veja um exemplo:"
   ]
  },
  {
   "cell_type": "code",
   "execution_count": 2,
   "metadata": {},
   "outputs": [
    {
     "name": "stdout",
     "output_type": "stream",
     "text": [
      "melão\n"
     ]
    }
   ],
   "source": [
    "melancia = False\n",
    "\n",
    "if melancia is True:\n",
    "    print('melancia')\n",
    "elif melancia is False:\n",
    "    print('melão')\n",
    "else:\n",
    "    print('hmmmm')"
   ]
  },
  {
   "cell_type": "markdown",
   "metadata": {},
   "source": [
    "O cógio acima pode ser lido como:\n",
    "\n",
    "*Se a melancia é Verdade, imprima no terminal a palavra __melancia__, mas se não for, verifique se ela é Falsa, nesse caso imprima a palavra __melão__, e por fim, caso ela não seja verade nem mentira, imprima a palavra __hmmmm__.*"
   ]
  },
  {
   "cell_type": "markdown",
   "metadata": {},
   "source": [
    "## FOR\n"
   ]
  }
 ],
 "metadata": {
  "kernelspec": {
   "display_name": "Python 3",
   "language": "python",
   "name": "python3"
  },
  "language_info": {
   "codemirror_mode": {
    "name": "ipython",
    "version": 3
   },
   "file_extension": ".py",
   "mimetype": "text/x-python",
   "name": "python",
   "nbconvert_exporter": "python",
   "pygments_lexer": "ipython3",
   "version": "3.6.5"
  }
 },
 "nbformat": 4,
 "nbformat_minor": 2
}
